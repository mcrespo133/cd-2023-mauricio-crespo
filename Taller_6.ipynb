{
  "nbformat": 4,
  "nbformat_minor": 0,
  "metadata": {
    "colab": {
      "provenance": [],
      "include_colab_link": true
    },
    "kernelspec": {
      "name": "python3",
      "display_name": "Python 3"
    },
    "language_info": {
      "name": "python"
    }
  },
  "cells": [
    {
      "cell_type": "markdown",
      "metadata": {
        "id": "view-in-github",
        "colab_type": "text"
      },
      "source": [
        "<a href=\"https://colab.research.google.com/github/mcrespo133/cd-2023-mauricio-crespo/blob/main/Taller_6.ipynb\" target=\"_parent\"><img src=\"https://colab.research.google.com/assets/colab-badge.svg\" alt=\"Open In Colab\"/></a>"
      ]
    },
    {
      "cell_type": "markdown",
      "source": [
        "**Algoritmo k-means**\n",
        "\n",
        "\n",
        "1.   Especificar el número *k* de *clusters* a asignar.\n",
        "2.   Iniciar aleatoriamente *k* centroides.\n",
        "3.   **Repetir**\n",
        "> 4. **Espectativa:** Asignar cada punto a su centroide más cercano.\n",
        "> 5. **Maximización:** Calcular el nuevo centroide (media) de clada *cluster*.\n",
        "6.   **Hasta que** La posición del centroide no cambie.\n",
        "\n",
        "\n",
        "\n"
      ],
      "metadata": {
        "id": "im48a0bU_phn"
      }
    },
    {
      "cell_type": "code",
      "source": [
        "!pip install matplotlib numpy pandas seaborn scikit-learn ipython\n",
        "!pip install kneed"
      ],
      "metadata": {
        "id": "XJDf0BiOBEaH",
        "outputId": "0baac398-0c5c-457a-8579-9da4900769ec",
        "colab": {
          "base_uri": "https://localhost:8080/"
        }
      },
      "execution_count": null,
      "outputs": [
        {
          "output_type": "stream",
          "name": "stdout",
          "text": [
            "Looking in indexes: https://pypi.org/simple, https://us-python.pkg.dev/colab-wheels/public/simple/\n",
            "Requirement already satisfied: matplotlib in /usr/local/lib/python3.9/dist-packages (3.7.1)\n",
            "Requirement already satisfied: numpy in /usr/local/lib/python3.9/dist-packages (1.22.4)\n",
            "Requirement already satisfied: pandas in /usr/local/lib/python3.9/dist-packages (1.4.4)\n",
            "Requirement already satisfied: seaborn in /usr/local/lib/python3.9/dist-packages (0.12.2)\n",
            "Requirement already satisfied: scikit-learn in /usr/local/lib/python3.9/dist-packages (1.2.2)\n",
            "Requirement already satisfied: ipython in /usr/local/lib/python3.9/dist-packages (7.9.0)\n",
            "Requirement already satisfied: python-dateutil>=2.7 in /usr/local/lib/python3.9/dist-packages (from matplotlib) (2.8.2)\n",
            "Requirement already satisfied: contourpy>=1.0.1 in /usr/local/lib/python3.9/dist-packages (from matplotlib) (1.0.7)\n",
            "Requirement already satisfied: pyparsing>=2.3.1 in /usr/local/lib/python3.9/dist-packages (from matplotlib) (3.0.9)\n",
            "Requirement already satisfied: importlib-resources>=3.2.0 in /usr/local/lib/python3.9/dist-packages (from matplotlib) (5.12.0)\n",
            "Requirement already satisfied: kiwisolver>=1.0.1 in /usr/local/lib/python3.9/dist-packages (from matplotlib) (1.4.4)\n",
            "Requirement already satisfied: packaging>=20.0 in /usr/local/lib/python3.9/dist-packages (from matplotlib) (23.0)\n",
            "Requirement already satisfied: pillow>=6.2.0 in /usr/local/lib/python3.9/dist-packages (from matplotlib) (8.4.0)\n",
            "Requirement already satisfied: fonttools>=4.22.0 in /usr/local/lib/python3.9/dist-packages (from matplotlib) (4.39.2)\n",
            "Requirement already satisfied: cycler>=0.10 in /usr/local/lib/python3.9/dist-packages (from matplotlib) (0.11.0)\n",
            "Requirement already satisfied: pytz>=2020.1 in /usr/local/lib/python3.9/dist-packages (from pandas) (2022.7.1)\n",
            "Requirement already satisfied: scipy>=1.3.2 in /usr/local/lib/python3.9/dist-packages (from scikit-learn) (1.10.1)\n",
            "Requirement already satisfied: threadpoolctl>=2.0.0 in /usr/local/lib/python3.9/dist-packages (from scikit-learn) (3.1.0)\n",
            "Requirement already satisfied: joblib>=1.1.1 in /usr/local/lib/python3.9/dist-packages (from scikit-learn) (1.1.1)\n",
            "Requirement already satisfied: setuptools>=18.5 in /usr/local/lib/python3.9/dist-packages (from ipython) (67.6.0)\n",
            "Requirement already satisfied: pickleshare in /usr/local/lib/python3.9/dist-packages (from ipython) (0.7.5)\n",
            "Requirement already satisfied: pygments in /usr/local/lib/python3.9/dist-packages (from ipython) (2.14.0)\n",
            "Requirement already satisfied: pexpect in /usr/local/lib/python3.9/dist-packages (from ipython) (4.8.0)\n",
            "Requirement already satisfied: traitlets>=4.2 in /usr/local/lib/python3.9/dist-packages (from ipython) (5.7.1)\n",
            "Requirement already satisfied: decorator in /usr/local/lib/python3.9/dist-packages (from ipython) (4.4.2)\n",
            "Collecting jedi>=0.10\n",
            "  Downloading jedi-0.18.2-py2.py3-none-any.whl (1.6 MB)\n",
            "\u001b[2K     \u001b[90m━━━━━━━━━━━━━━━━━━━━━━━━━━━━━━━━━━━━━━━━\u001b[0m \u001b[32m1.6/1.6 MB\u001b[0m \u001b[31m16.8 MB/s\u001b[0m eta \u001b[36m0:00:00\u001b[0m\n",
            "\u001b[?25hRequirement already satisfied: backcall in /usr/local/lib/python3.9/dist-packages (from ipython) (0.2.0)\n",
            "Requirement already satisfied: prompt-toolkit<2.1.0,>=2.0.0 in /usr/local/lib/python3.9/dist-packages (from ipython) (2.0.10)\n",
            "Requirement already satisfied: zipp>=3.1.0 in /usr/local/lib/python3.9/dist-packages (from importlib-resources>=3.2.0->matplotlib) (3.15.0)\n",
            "Requirement already satisfied: parso<0.9.0,>=0.8.0 in /usr/local/lib/python3.9/dist-packages (from jedi>=0.10->ipython) (0.8.3)\n",
            "Requirement already satisfied: wcwidth in /usr/local/lib/python3.9/dist-packages (from prompt-toolkit<2.1.0,>=2.0.0->ipython) (0.2.6)\n",
            "Requirement already satisfied: six>=1.9.0 in /usr/local/lib/python3.9/dist-packages (from prompt-toolkit<2.1.0,>=2.0.0->ipython) (1.16.0)\n",
            "Requirement already satisfied: ptyprocess>=0.5 in /usr/local/lib/python3.9/dist-packages (from pexpect->ipython) (0.7.0)\n",
            "Installing collected packages: jedi\n",
            "Successfully installed jedi-0.18.2\n",
            "Looking in indexes: https://pypi.org/simple, https://us-python.pkg.dev/colab-wheels/public/simple/\n",
            "Collecting kneed\n",
            "  Downloading kneed-0.8.2-py3-none-any.whl (10 kB)\n",
            "Requirement already satisfied: numpy>=1.14.2 in /usr/local/lib/python3.9/dist-packages (from kneed) (1.22.4)\n",
            "Requirement already satisfied: scipy>=1.0.0 in /usr/local/lib/python3.9/dist-packages (from kneed) (1.10.1)\n",
            "Installing collected packages: kneed\n",
            "Successfully installed kneed-0.8.2\n"
          ]
        }
      ]
    },
    {
      "cell_type": "code",
      "source": [
        "!pip install pyproj"
      ],
      "metadata": {
        "colab": {
          "base_uri": "https://localhost:8080/"
        },
        "id": "OX_LfbIzAtad",
        "outputId": "0a6d506c-565f-4041-9958-177123ff9b30"
      },
      "execution_count": null,
      "outputs": [
        {
          "output_type": "stream",
          "name": "stdout",
          "text": [
            "Looking in indexes: https://pypi.org/simple, https://us-python.pkg.dev/colab-wheels/public/simple/\n",
            "Collecting pyproj\n",
            "  Downloading pyproj-3.4.1-cp39-cp39-manylinux_2_17_x86_64.manylinux2014_x86_64.whl (7.7 MB)\n",
            "\u001b[2K     \u001b[90m━━━━━━━━━━━━━━━━━━━━━━━━━━━━━━━━━━━━━━━━\u001b[0m \u001b[32m7.7/7.7 MB\u001b[0m \u001b[31m47.7 MB/s\u001b[0m eta \u001b[36m0:00:00\u001b[0m\n",
            "\u001b[?25hRequirement already satisfied: certifi in /usr/local/lib/python3.9/dist-packages (from pyproj) (2022.12.7)\n",
            "Installing collected packages: pyproj\n",
            "Successfully installed pyproj-3.4.1\n"
          ]
        }
      ]
    },
    {
      "cell_type": "code",
      "source": [
        "import pandas as pd\n",
        "import numpy as np\n",
        "import pyproj\n",
        "import math\n",
        "import matplotlib.pyplot as plt\n",
        "import seaborn as sb\n",
        "import urllib.request\n",
        "from kneed import KneeLocator\n",
        "from sklearn.datasets import make_blobs\n",
        "from sklearn.cluster import KMeans\n",
        "from sklearn.metrics import silhouette_score\n",
        "from sklearn.preprocessing import StandardScaler"
      ],
      "metadata": {
        "id": "9gfUlRGwB0jX"
      },
      "execution_count": null,
      "outputs": []
    },
    {
      "cell_type": "code",
      "source": [
        "#Importar Datos\n",
        "ruta = 'https://raw.githubusercontent.com/fmoreno4/cd-files/main/eventos_dengue_2020.csv'\n",
        "df = pd.read_csv(ruta)\n",
        "df"
      ],
      "metadata": {
        "colab": {
          "base_uri": "https://localhost:8080/",
          "height": 592
        },
        "id": "4swhhJSBAee1",
        "outputId": "f772c9e4-b9eb-4b04-cdf0-573364abdde0"
      },
      "execution_count": null,
      "outputs": [
        {
          "output_type": "execute_result",
          "data": {
            "text/plain": [
              "        ID     fec_not  semana   año  edad_  uni_med_ sexo_  cod_pais_o  \\\n",
              "0        1  17/01/2020       1  2020     25         1     F         170   \n",
              "1        2  10/01/2020       1  2020     24         1     M         170   \n",
              "2        3  12/01/2020       1  2020     58         1     M         170   \n",
              "3        4  12/01/2020       1  2020     29         1     F         170   \n",
              "4        5  10/01/2020       1  2020     56         1     F         170   \n",
              "...    ...         ...     ...   ...    ...       ...   ...         ...   \n",
              "1257  1258   7/03/2020       9  2020     36         1     F         170   \n",
              "1258  1259  13/03/2020       9  2020     42         1     M         170   \n",
              "1259  1260   8/03/2020       9  2020      2         1     M         170   \n",
              "1260  1261  11/03/2020       9  2020     12         1     F         170   \n",
              "1261  1262   9/03/2020       9  2020     14         1     M         170   \n",
              "\n",
              "      cod_dpto_o  cod_mun_o  ...  hipotension  hepatomegalia  \\\n",
              "0             68        276  ...            2              2   \n",
              "1             68        276  ...            2              2   \n",
              "2             68        276  ...            2              2   \n",
              "3             68        276  ...            2              2   \n",
              "4             68        276  ...            2              2   \n",
              "...          ...        ...  ...          ...            ...   \n",
              "1257          68        276  ...            2              2   \n",
              "1258          68        276  ...            2              2   \n",
              "1259          68        276  ...            2              2   \n",
              "1260          68        276  ...            2              2   \n",
              "1261          68        276  ...            2              2   \n",
              "\n",
              "     hemorragia_mucosa hipotermia  caida_plaquetas  acum_liquido  \\\n",
              "0                    2          2                2             2   \n",
              "1                    2          2                2             2   \n",
              "2                    2          2                2             2   \n",
              "3                    2          2                2             2   \n",
              "4                    2          2                1             2   \n",
              "...                ...        ...              ...           ...   \n",
              "1257                 1          2                2             2   \n",
              "1258                 2          2                1             2   \n",
              "1259                 2          2                2             2   \n",
              "1260                 2          2                2             2   \n",
              "1261                 2          2                2             2   \n",
              "\n",
              "      aum_hematocrito                 conducta   latitud   longitud  \n",
              "0                   2           1. Ambulatorio  7.076011 -73.102501  \n",
              "1                   2           1. Ambulatorio  7.079495 -73.105400  \n",
              "2                   2           1. Ambulatorio  7.090290 -73.091003  \n",
              "3                   2           1. Ambulatorio  7.067435 -73.090958  \n",
              "4                   2  2. Hospitalizacion piso  7.066905 -73.104980  \n",
              "...               ...                      ...       ...        ...  \n",
              "1257                2           1. Ambulatorio  7.072610 -73.099487  \n",
              "1258                1  2. Hospitalizacion piso  7.065252 -73.103607  \n",
              "1259                2           1. Ambulatorio  7.091391 -73.103264  \n",
              "1260                2           1. Ambulatorio  7.061083 -73.097000  \n",
              "1261                2  2. Hospitalizacion piso  7.062521 -73.080444  \n",
              "\n",
              "[1262 rows x 51 columns]"
            ],
            "text/html": [
              "\n",
              "  <div id=\"df-e59af2a8-25e9-4792-a1dd-d601eab223fa\">\n",
              "    <div class=\"colab-df-container\">\n",
              "      <div>\n",
              "<style scoped>\n",
              "    .dataframe tbody tr th:only-of-type {\n",
              "        vertical-align: middle;\n",
              "    }\n",
              "\n",
              "    .dataframe tbody tr th {\n",
              "        vertical-align: top;\n",
              "    }\n",
              "\n",
              "    .dataframe thead th {\n",
              "        text-align: right;\n",
              "    }\n",
              "</style>\n",
              "<table border=\"1\" class=\"dataframe\">\n",
              "  <thead>\n",
              "    <tr style=\"text-align: right;\">\n",
              "      <th></th>\n",
              "      <th>ID</th>\n",
              "      <th>fec_not</th>\n",
              "      <th>semana</th>\n",
              "      <th>año</th>\n",
              "      <th>edad_</th>\n",
              "      <th>uni_med_</th>\n",
              "      <th>sexo_</th>\n",
              "      <th>cod_pais_o</th>\n",
              "      <th>cod_dpto_o</th>\n",
              "      <th>cod_mun_o</th>\n",
              "      <th>...</th>\n",
              "      <th>hipotension</th>\n",
              "      <th>hepatomegalia</th>\n",
              "      <th>hemorragia_mucosa</th>\n",
              "      <th>hipotermia</th>\n",
              "      <th>caida_plaquetas</th>\n",
              "      <th>acum_liquido</th>\n",
              "      <th>aum_hematocrito</th>\n",
              "      <th>conducta</th>\n",
              "      <th>latitud</th>\n",
              "      <th>longitud</th>\n",
              "    </tr>\n",
              "  </thead>\n",
              "  <tbody>\n",
              "    <tr>\n",
              "      <th>0</th>\n",
              "      <td>1</td>\n",
              "      <td>17/01/2020</td>\n",
              "      <td>1</td>\n",
              "      <td>2020</td>\n",
              "      <td>25</td>\n",
              "      <td>1</td>\n",
              "      <td>F</td>\n",
              "      <td>170</td>\n",
              "      <td>68</td>\n",
              "      <td>276</td>\n",
              "      <td>...</td>\n",
              "      <td>2</td>\n",
              "      <td>2</td>\n",
              "      <td>2</td>\n",
              "      <td>2</td>\n",
              "      <td>2</td>\n",
              "      <td>2</td>\n",
              "      <td>2</td>\n",
              "      <td>1. Ambulatorio</td>\n",
              "      <td>7.076011</td>\n",
              "      <td>-73.102501</td>\n",
              "    </tr>\n",
              "    <tr>\n",
              "      <th>1</th>\n",
              "      <td>2</td>\n",
              "      <td>10/01/2020</td>\n",
              "      <td>1</td>\n",
              "      <td>2020</td>\n",
              "      <td>24</td>\n",
              "      <td>1</td>\n",
              "      <td>M</td>\n",
              "      <td>170</td>\n",
              "      <td>68</td>\n",
              "      <td>276</td>\n",
              "      <td>...</td>\n",
              "      <td>2</td>\n",
              "      <td>2</td>\n",
              "      <td>2</td>\n",
              "      <td>2</td>\n",
              "      <td>2</td>\n",
              "      <td>2</td>\n",
              "      <td>2</td>\n",
              "      <td>1. Ambulatorio</td>\n",
              "      <td>7.079495</td>\n",
              "      <td>-73.105400</td>\n",
              "    </tr>\n",
              "    <tr>\n",
              "      <th>2</th>\n",
              "      <td>3</td>\n",
              "      <td>12/01/2020</td>\n",
              "      <td>1</td>\n",
              "      <td>2020</td>\n",
              "      <td>58</td>\n",
              "      <td>1</td>\n",
              "      <td>M</td>\n",
              "      <td>170</td>\n",
              "      <td>68</td>\n",
              "      <td>276</td>\n",
              "      <td>...</td>\n",
              "      <td>2</td>\n",
              "      <td>2</td>\n",
              "      <td>2</td>\n",
              "      <td>2</td>\n",
              "      <td>2</td>\n",
              "      <td>2</td>\n",
              "      <td>2</td>\n",
              "      <td>1. Ambulatorio</td>\n",
              "      <td>7.090290</td>\n",
              "      <td>-73.091003</td>\n",
              "    </tr>\n",
              "    <tr>\n",
              "      <th>3</th>\n",
              "      <td>4</td>\n",
              "      <td>12/01/2020</td>\n",
              "      <td>1</td>\n",
              "      <td>2020</td>\n",
              "      <td>29</td>\n",
              "      <td>1</td>\n",
              "      <td>F</td>\n",
              "      <td>170</td>\n",
              "      <td>68</td>\n",
              "      <td>276</td>\n",
              "      <td>...</td>\n",
              "      <td>2</td>\n",
              "      <td>2</td>\n",
              "      <td>2</td>\n",
              "      <td>2</td>\n",
              "      <td>2</td>\n",
              "      <td>2</td>\n",
              "      <td>2</td>\n",
              "      <td>1. Ambulatorio</td>\n",
              "      <td>7.067435</td>\n",
              "      <td>-73.090958</td>\n",
              "    </tr>\n",
              "    <tr>\n",
              "      <th>4</th>\n",
              "      <td>5</td>\n",
              "      <td>10/01/2020</td>\n",
              "      <td>1</td>\n",
              "      <td>2020</td>\n",
              "      <td>56</td>\n",
              "      <td>1</td>\n",
              "      <td>F</td>\n",
              "      <td>170</td>\n",
              "      <td>68</td>\n",
              "      <td>276</td>\n",
              "      <td>...</td>\n",
              "      <td>2</td>\n",
              "      <td>2</td>\n",
              "      <td>2</td>\n",
              "      <td>2</td>\n",
              "      <td>1</td>\n",
              "      <td>2</td>\n",
              "      <td>2</td>\n",
              "      <td>2. Hospitalizacion piso</td>\n",
              "      <td>7.066905</td>\n",
              "      <td>-73.104980</td>\n",
              "    </tr>\n",
              "    <tr>\n",
              "      <th>...</th>\n",
              "      <td>...</td>\n",
              "      <td>...</td>\n",
              "      <td>...</td>\n",
              "      <td>...</td>\n",
              "      <td>...</td>\n",
              "      <td>...</td>\n",
              "      <td>...</td>\n",
              "      <td>...</td>\n",
              "      <td>...</td>\n",
              "      <td>...</td>\n",
              "      <td>...</td>\n",
              "      <td>...</td>\n",
              "      <td>...</td>\n",
              "      <td>...</td>\n",
              "      <td>...</td>\n",
              "      <td>...</td>\n",
              "      <td>...</td>\n",
              "      <td>...</td>\n",
              "      <td>...</td>\n",
              "      <td>...</td>\n",
              "      <td>...</td>\n",
              "    </tr>\n",
              "    <tr>\n",
              "      <th>1257</th>\n",
              "      <td>1258</td>\n",
              "      <td>7/03/2020</td>\n",
              "      <td>9</td>\n",
              "      <td>2020</td>\n",
              "      <td>36</td>\n",
              "      <td>1</td>\n",
              "      <td>F</td>\n",
              "      <td>170</td>\n",
              "      <td>68</td>\n",
              "      <td>276</td>\n",
              "      <td>...</td>\n",
              "      <td>2</td>\n",
              "      <td>2</td>\n",
              "      <td>1</td>\n",
              "      <td>2</td>\n",
              "      <td>2</td>\n",
              "      <td>2</td>\n",
              "      <td>2</td>\n",
              "      <td>1. Ambulatorio</td>\n",
              "      <td>7.072610</td>\n",
              "      <td>-73.099487</td>\n",
              "    </tr>\n",
              "    <tr>\n",
              "      <th>1258</th>\n",
              "      <td>1259</td>\n",
              "      <td>13/03/2020</td>\n",
              "      <td>9</td>\n",
              "      <td>2020</td>\n",
              "      <td>42</td>\n",
              "      <td>1</td>\n",
              "      <td>M</td>\n",
              "      <td>170</td>\n",
              "      <td>68</td>\n",
              "      <td>276</td>\n",
              "      <td>...</td>\n",
              "      <td>2</td>\n",
              "      <td>2</td>\n",
              "      <td>2</td>\n",
              "      <td>2</td>\n",
              "      <td>1</td>\n",
              "      <td>2</td>\n",
              "      <td>1</td>\n",
              "      <td>2. Hospitalizacion piso</td>\n",
              "      <td>7.065252</td>\n",
              "      <td>-73.103607</td>\n",
              "    </tr>\n",
              "    <tr>\n",
              "      <th>1259</th>\n",
              "      <td>1260</td>\n",
              "      <td>8/03/2020</td>\n",
              "      <td>9</td>\n",
              "      <td>2020</td>\n",
              "      <td>2</td>\n",
              "      <td>1</td>\n",
              "      <td>M</td>\n",
              "      <td>170</td>\n",
              "      <td>68</td>\n",
              "      <td>276</td>\n",
              "      <td>...</td>\n",
              "      <td>2</td>\n",
              "      <td>2</td>\n",
              "      <td>2</td>\n",
              "      <td>2</td>\n",
              "      <td>2</td>\n",
              "      <td>2</td>\n",
              "      <td>2</td>\n",
              "      <td>1. Ambulatorio</td>\n",
              "      <td>7.091391</td>\n",
              "      <td>-73.103264</td>\n",
              "    </tr>\n",
              "    <tr>\n",
              "      <th>1260</th>\n",
              "      <td>1261</td>\n",
              "      <td>11/03/2020</td>\n",
              "      <td>9</td>\n",
              "      <td>2020</td>\n",
              "      <td>12</td>\n",
              "      <td>1</td>\n",
              "      <td>F</td>\n",
              "      <td>170</td>\n",
              "      <td>68</td>\n",
              "      <td>276</td>\n",
              "      <td>...</td>\n",
              "      <td>2</td>\n",
              "      <td>2</td>\n",
              "      <td>2</td>\n",
              "      <td>2</td>\n",
              "      <td>2</td>\n",
              "      <td>2</td>\n",
              "      <td>2</td>\n",
              "      <td>1. Ambulatorio</td>\n",
              "      <td>7.061083</td>\n",
              "      <td>-73.097000</td>\n",
              "    </tr>\n",
              "    <tr>\n",
              "      <th>1261</th>\n",
              "      <td>1262</td>\n",
              "      <td>9/03/2020</td>\n",
              "      <td>9</td>\n",
              "      <td>2020</td>\n",
              "      <td>14</td>\n",
              "      <td>1</td>\n",
              "      <td>M</td>\n",
              "      <td>170</td>\n",
              "      <td>68</td>\n",
              "      <td>276</td>\n",
              "      <td>...</td>\n",
              "      <td>2</td>\n",
              "      <td>2</td>\n",
              "      <td>2</td>\n",
              "      <td>2</td>\n",
              "      <td>2</td>\n",
              "      <td>2</td>\n",
              "      <td>2</td>\n",
              "      <td>2. Hospitalizacion piso</td>\n",
              "      <td>7.062521</td>\n",
              "      <td>-73.080444</td>\n",
              "    </tr>\n",
              "  </tbody>\n",
              "</table>\n",
              "<p>1262 rows × 51 columns</p>\n",
              "</div>\n",
              "      <button class=\"colab-df-convert\" onclick=\"convertToInteractive('df-e59af2a8-25e9-4792-a1dd-d601eab223fa')\"\n",
              "              title=\"Convert this dataframe to an interactive table.\"\n",
              "              style=\"display:none;\">\n",
              "        \n",
              "  <svg xmlns=\"http://www.w3.org/2000/svg\" height=\"24px\"viewBox=\"0 0 24 24\"\n",
              "       width=\"24px\">\n",
              "    <path d=\"M0 0h24v24H0V0z\" fill=\"none\"/>\n",
              "    <path d=\"M18.56 5.44l.94 2.06.94-2.06 2.06-.94-2.06-.94-.94-2.06-.94 2.06-2.06.94zm-11 1L8.5 8.5l.94-2.06 2.06-.94-2.06-.94L8.5 2.5l-.94 2.06-2.06.94zm10 10l.94 2.06.94-2.06 2.06-.94-2.06-.94-.94-2.06-.94 2.06-2.06.94z\"/><path d=\"M17.41 7.96l-1.37-1.37c-.4-.4-.92-.59-1.43-.59-.52 0-1.04.2-1.43.59L10.3 9.45l-7.72 7.72c-.78.78-.78 2.05 0 2.83L4 21.41c.39.39.9.59 1.41.59.51 0 1.02-.2 1.41-.59l7.78-7.78 2.81-2.81c.8-.78.8-2.07 0-2.86zM5.41 20L4 18.59l7.72-7.72 1.47 1.35L5.41 20z\"/>\n",
              "  </svg>\n",
              "      </button>\n",
              "      \n",
              "  <style>\n",
              "    .colab-df-container {\n",
              "      display:flex;\n",
              "      flex-wrap:wrap;\n",
              "      gap: 12px;\n",
              "    }\n",
              "\n",
              "    .colab-df-convert {\n",
              "      background-color: #E8F0FE;\n",
              "      border: none;\n",
              "      border-radius: 50%;\n",
              "      cursor: pointer;\n",
              "      display: none;\n",
              "      fill: #1967D2;\n",
              "      height: 32px;\n",
              "      padding: 0 0 0 0;\n",
              "      width: 32px;\n",
              "    }\n",
              "\n",
              "    .colab-df-convert:hover {\n",
              "      background-color: #E2EBFA;\n",
              "      box-shadow: 0px 1px 2px rgba(60, 64, 67, 0.3), 0px 1px 3px 1px rgba(60, 64, 67, 0.15);\n",
              "      fill: #174EA6;\n",
              "    }\n",
              "\n",
              "    [theme=dark] .colab-df-convert {\n",
              "      background-color: #3B4455;\n",
              "      fill: #D2E3FC;\n",
              "    }\n",
              "\n",
              "    [theme=dark] .colab-df-convert:hover {\n",
              "      background-color: #434B5C;\n",
              "      box-shadow: 0px 1px 3px 1px rgba(0, 0, 0, 0.15);\n",
              "      filter: drop-shadow(0px 1px 2px rgba(0, 0, 0, 0.3));\n",
              "      fill: #FFFFFF;\n",
              "    }\n",
              "  </style>\n",
              "\n",
              "      <script>\n",
              "        const buttonEl =\n",
              "          document.querySelector('#df-e59af2a8-25e9-4792-a1dd-d601eab223fa button.colab-df-convert');\n",
              "        buttonEl.style.display =\n",
              "          google.colab.kernel.accessAllowed ? 'block' : 'none';\n",
              "\n",
              "        async function convertToInteractive(key) {\n",
              "          const element = document.querySelector('#df-e59af2a8-25e9-4792-a1dd-d601eab223fa');\n",
              "          const dataTable =\n",
              "            await google.colab.kernel.invokeFunction('convertToInteractive',\n",
              "                                                     [key], {});\n",
              "          if (!dataTable) return;\n",
              "\n",
              "          const docLinkHtml = 'Like what you see? Visit the ' +\n",
              "            '<a target=\"_blank\" href=https://colab.research.google.com/notebooks/data_table.ipynb>data table notebook</a>'\n",
              "            + ' to learn more about interactive tables.';\n",
              "          element.innerHTML = '';\n",
              "          dataTable['output_type'] = 'display_data';\n",
              "          await google.colab.output.renderOutput(dataTable, element);\n",
              "          const docLink = document.createElement('div');\n",
              "          docLink.innerHTML = docLinkHtml;\n",
              "          element.appendChild(docLink);\n",
              "        }\n",
              "      </script>\n",
              "    </div>\n",
              "  </div>\n",
              "  "
            ]
          },
          "metadata": {},
          "execution_count": 22
        }
      ]
    },
    {
      "cell_type": "code",
      "source": [
        "coords = df[['latitud', 'longitud']].to_numpy()\n",
        "coords"
      ],
      "metadata": {
        "colab": {
          "base_uri": "https://localhost:8080/"
        },
        "id": "1uYfD3d4Bsw0",
        "outputId": "137d0e3f-4ebc-4b0c-c5ef-6e78126e272f"
      },
      "execution_count": null,
      "outputs": [
        {
          "output_type": "execute_result",
          "data": {
            "text/plain": [
              "array([[  7.07601118, -73.10250092],\n",
              "       [  7.07949543, -73.10540009],\n",
              "       [  7.09029007, -73.09100342],\n",
              "       ...,\n",
              "       [  7.09139061, -73.10326385],\n",
              "       [  7.06108332, -73.09700012],\n",
              "       [  7.06252098, -73.08044434]])"
            ]
          },
          "metadata": {},
          "execution_count": 29
        }
      ]
    },
    {
      "cell_type": "code",
      "source": [
        "P = pyproj.Proj(proj='utm', zone=18, ellps='WGS84', preserve_units=True)"
      ],
      "metadata": {
        "id": "Tumhb5BqDJxZ"
      },
      "execution_count": null,
      "outputs": []
    },
    {
      "cell_type": "code",
      "source": [
        "df['x'], df['y'] = P(df['longitud'], df['latitud'])"
      ],
      "metadata": {
        "id": "tyYbnajrDU-o"
      },
      "execution_count": null,
      "outputs": []
    },
    {
      "cell_type": "code",
      "source": [
        "coords = df[['x', 'y']].to_numpy()\n",
        "coords"
      ],
      "metadata": {
        "colab": {
          "base_uri": "https://localhost:8080/"
        },
        "id": "Xo-MqiHIDdTo",
        "outputId": "27229e2f-73d8-422f-fc00-8c07c37a2431"
      },
      "execution_count": null,
      "outputs": [
        {
          "output_type": "execute_result",
          "data": {
            "text/plain": [
              "array([[709584.02755874, 782579.28186627],\n",
              "       [709262.12137799, 782963.35410304],\n",
              "       [710847.92465398, 784163.82509702],\n",
              "       ...,\n",
              "       [709492.78278312, 784279.99626355],\n",
              "       [710198.57491572, 780930.64855507],\n",
              "       [712027.27741723, 781097.16920956]])"
            ]
          },
          "metadata": {},
          "execution_count": 32
        }
      ]
    },
    {
      "cell_type": "code",
      "source": [
        "scaler = StandardScaler()\n",
        "scaled_features = scaler.fit_transform(coords)\n",
        "scaled_features[:10]"
      ],
      "metadata": {
        "colab": {
          "base_uri": "https://localhost:8080/"
        },
        "id": "80ukIOhWDyOu",
        "outputId": "f141177d-c78d-480a-f2c1-383f8be50315"
      },
      "execution_count": null,
      "outputs": [
        {
          "output_type": "execute_result",
          "data": {
            "text/plain": [
              "array([[-0.9011081 , -0.15373823],\n",
              "       [-1.2657243 ,  0.1672022 ],\n",
              "       [ 0.53048091,  1.17034598],\n",
              "       [ 0.54797186, -0.94205553],\n",
              "       [-1.20678205, -0.99630952],\n",
              "       [ 0.81227933, -0.39285677],\n",
              "       [ 0.76254365,  0.30753062],\n",
              "       [ 1.1657717 ,  0.59893147],\n",
              "       [-0.87907268,  0.52306182],\n",
              "       [-0.32381125, -0.94499682]])"
            ]
          },
          "metadata": {},
          "execution_count": 61
        }
      ]
    },
    {
      "cell_type": "markdown",
      "source": [
        "# **Determinación de la cantidad adecuada de clusters**\n",
        "\n",
        "**Método del codo**"
      ],
      "metadata": {
        "id": "pG1_ejhY70pe"
      }
    },
    {
      "cell_type": "code",
      "source": [
        "kmeans_kwargs = {\n",
        "  \"init\": \"random\",\n",
        "  \"n_init\": 10,\n",
        "  \"max_iter\": 300,\n",
        "  \"random_state\": 42,\n",
        "}\n",
        "\n",
        "sse = []\n",
        "for k in range(1, 11):\n",
        "  kmeans = KMeans(n_clusters=k, **kmeans_kwargs)\n",
        "  kmeans.fit(scaled_features)\n",
        "  sse.append(kmeans.inertia_)"
      ],
      "metadata": {
        "id": "0xu4tvaED7bW"
      },
      "execution_count": null,
      "outputs": []
    },
    {
      "cell_type": "code",
      "source": [
        "plt.style.use(\"fivethirtyeight\")\n",
        "plt.plot(range(1, 11), sse)\n",
        "plt.xticks(range(1, 11))\n",
        "plt.xlabel(\"Number of Clusters\")\n",
        "plt.ylabel(\"SSE\")\n",
        "plt.show()"
      ],
      "metadata": {
        "colab": {
          "base_uri": "https://localhost:8080/",
          "height": 304
        },
        "id": "hnQDQ5OoEuEz",
        "outputId": "da25b702-3d2e-43f7-99fe-6731329d0479"
      },
      "execution_count": null,
      "outputs": [
        {
          "output_type": "display_data",
          "data": {
            "text/plain": [
              "<Figure size 432x288 with 1 Axes>"
            ],
            "image/png": "[encoded data removed]"
          },
          "metadata": {}
        }
      ]
    },
    {
      "cell_type": "code",
      "source": [
        "kl = KneeLocator(\n",
        "  range(1, 11), sse, curve=\"convex\", direction=\"decreasing\"\n",
        ")\n",
        "kl.elbow"
      ],
      "metadata": {
        "colab": {
          "base_uri": "https://localhost:8080/"
        },
        "id": "p9VPzGPtE5JL",
        "outputId": "c219fa1d-85ba-43e3-a020-f7a396a3140d"
      },
      "execution_count": null,
      "outputs": [
        {
          "output_type": "execute_result",
          "data": {
            "text/plain": [
              "3"
            ]
          },
          "metadata": {},
          "execution_count": 36
        }
      ]
    },
    {
      "cell_type": "markdown",
      "source": [
        "**Coeficiente de silueta**"
      ],
      "metadata": {
        "id": "7eO-deHc-1js"
      }
    },
    {
      "cell_type": "code",
      "source": [
        "silhouette_coefficients = []\n",
        "\n",
        "#Aquí se inicia con 2 cluster\n",
        "for k in range(2, 11):\n",
        "  kmeans = KMeans(n_clusters=k, **kmeans_kwargs)\n",
        "  kmeans.fit(scaled_features)\n",
        "  score = silhouette_score(scaled_features, kmeans.labels_)\n",
        "  silhouette_coefficients.append(score)"
      ],
      "metadata": {
        "id": "LvXizHrnE_Iz"
      },
      "execution_count": null,
      "outputs": []
    },
    {
      "cell_type": "code",
      "source": [
        "plt.style.use(\"fivethirtyeight\")\n",
        "plt.plot(range(2, 11), silhouette_coefficients)\n",
        "plt.xticks(range(2, 11))\n",
        "plt.xlabel(\"Number of Clusters\")\n",
        "plt.ylabel(\"Silhouette Coefficient\")\n",
        "plt.show()"
      ],
      "metadata": {
        "colab": {
          "base_uri": "https://localhost:8080/",
          "height": 304
        },
        "id": "m2Qvn-XdFESK",
        "outputId": "1fdae0f6-4e26-4192-fd6f-99ca74877c8c"
      },
      "execution_count": null,
      "outputs": [
        {
          "output_type": "display_data",
          "data": {
            "text/plain": [
              "<Figure size 432x288 with 1 Axes>"
            ],
            "image/png": "[encoded data removed]"
          },
          "metadata": {}
        }
      ]
    },
    {
      "cell_type": "code",
      "source": [
        "# Inicializado con 3 clusters\n",
        "kmeans = KMeans(\n",
        "  init=\"random\",\n",
        "  n_clusters=3,\n",
        "  n_init=10,\n",
        "  max_iter=300,\n",
        "  random_state=42\n",
        ")"
      ],
      "metadata": {
        "id": "kZXaoYK0FYSL"
      },
      "execution_count": null,
      "outputs": []
    },
    {
      "cell_type": "code",
      "source": [
        "kmeans.fit(scaled_features)"
      ],
      "metadata": {
        "colab": {
          "base_uri": "https://localhost:8080/",
          "height": 75
        },
        "id": "3nFmsCwbFaqq",
        "outputId": "67b7d052-3eeb-47b5-a8ac-764b2691e476"
      },
      "execution_count": null,
      "outputs": [
        {
          "output_type": "execute_result",
          "data": {
            "text/plain": [
              "KMeans(init='random', n_clusters=3, n_init=10, random_state=42)"
            ],
            "text/html": [
              "<style>#sk-container-id-2 {color: black;background-color: white;}#sk-container-id-2 pre{padding: 0;}#sk-container-id-2 div.sk-toggleable {background-color: white;}#sk-container-id-2 label.sk-toggleable__label {cursor: pointer;display: block;width: 100%;margin-bottom: 0;padding: 0.3em;box-sizing: border-box;text-align: center;}#sk-container-id-2 label.sk-toggleable__label-arrow:before {content: \"▸\";float: left;margin-right: 0.25em;color: #696969;}#sk-container-id-2 label.sk-toggleable__label-arrow:hover:before {color: black;}#sk-container-id-2 div.sk-estimator:hover label.sk-toggleable__label-arrow:before {color: black;}#sk-container-id-2 div.sk-toggleable__content {max-height: 0;max-width: 0;overflow: hidden;text-align: left;background-color: #f0f8ff;}#sk-container-id-2 div.sk-toggleable__content pre {margin: 0.2em;color: black;border-radius: 0.25em;background-color: #f0f8ff;}#sk-container-id-2 input.sk-toggleable__control:checked~div.sk-toggleable__content {max-height: 200px;max-width: 100%;overflow: auto;}#sk-container-id-2 input.sk-toggleable__control:checked~label.sk-toggleable__label-arrow:before {content: \"▾\";}#sk-container-id-2 div.sk-estimator input.sk-toggleable__control:checked~label.sk-toggleable__label {background-color: #d4ebff;}#sk-container-id-2 div.sk-label input.sk-toggleable__control:checked~label.sk-toggleable__label {background-color: #d4ebff;}#sk-container-id-2 input.sk-hidden--visually {border: 0;clip: rect(1px 1px 1px 1px);clip: rect(1px, 1px, 1px, 1px);height: 1px;margin: -1px;overflow: hidden;padding: 0;position: absolute;width: 1px;}#sk-container-id-2 div.sk-estimator {font-family: monospace;background-color: #f0f8ff;border: 1px dotted black;border-radius: 0.25em;box-sizing: border-box;margin-bottom: 0.5em;}#sk-container-id-2 div.sk-estimator:hover {background-color: #d4ebff;}#sk-container-id-2 div.sk-parallel-item::after {content: \"\";width: 100%;border-bottom: 1px solid gray;flex-grow: 1;}#sk-container-id-2 div.sk-label:hover label.sk-toggleable__label {background-color: #d4ebff;}#sk-container-id-2 div.sk-serial::before {content: \"\";position: absolute;border-left: 1px solid gray;box-sizing: border-box;top: 0;bottom: 0;left: 50%;z-index: 0;}#sk-container-id-2 div.sk-serial {display: flex;flex-direction: column;align-items: center;background-color: white;padding-right: 0.2em;padding-left: 0.2em;position: relative;}#sk-container-id-2 div.sk-item {position: relative;z-index: 1;}#sk-container-id-2 div.sk-parallel {display: flex;align-items: stretch;justify-content: center;background-color: white;position: relative;}#sk-container-id-2 div.sk-item::before, #sk-container-id-2 div.sk-parallel-item::before {content: \"\";position: absolute;border-left: 1px solid gray;box-sizing: border-box;top: 0;bottom: 0;left: 50%;z-index: -1;}#sk-container-id-2 div.sk-parallel-item {display: flex;flex-direction: column;z-index: 1;position: relative;background-color: white;}#sk-container-id-2 div.sk-parallel-item:first-child::after {align-self: flex-end;width: 50%;}#sk-container-id-2 div.sk-parallel-item:last-child::after {align-self: flex-start;width: 50%;}#sk-container-id-2 div.sk-parallel-item:only-child::after {width: 0;}#sk-container-id-2 div.sk-dashed-wrapped {border: 1px dashed gray;margin: 0 0.4em 0.5em 0.4em;box-sizing: border-box;padding-bottom: 0.4em;background-color: white;}#sk-container-id-2 div.sk-label label {font-family: monospace;font-weight: bold;display: inline-block;line-height: 1.2em;}#sk-container-id-2 div.sk-label-container {text-align: center;}#sk-container-id-2 div.sk-container {/* jupyter's `normalize.less` sets `[hidden] { display: none; }` but bootstrap.min.css set `[hidden] { display: none !important; }` so we also need the `!important` here to be able to override the default hidden behavior on the sphinx rendered scikit-learn.org. See: https://github.com/scikit-learn/scikit-learn/issues/21755 */display: inline-block !important;position: relative;}#sk-container-id-2 div.sk-text-repr-fallback {display: none;}</style><div id=\"sk-container-id-2\" class=\"sk-top-container\"><div class=\"sk-text-repr-fallback\"><pre>KMeans(init=&#x27;random&#x27;, n_clusters=3, n_init=10, random_state=42)</pre><b>In a Jupyter environment, please rerun this cell to show the HTML representation or trust the notebook. <br />On GitHub, the HTML representation is unable to render, please try loading this page with nbviewer.org.</b></div><div class=\"sk-container\" hidden><div class=\"sk-item\"><div class=\"sk-estimator sk-toggleable\"><input class=\"sk-toggleable__control sk-hidden--visually\" id=\"sk-estimator-id-2\" type=\"checkbox\" checked><label for=\"sk-estimator-id-2\" class=\"sk-toggleable__label sk-toggleable__label-arrow\">KMeans</label><div class=\"sk-toggleable__content\"><pre>KMeans(init=&#x27;random&#x27;, n_clusters=3, n_init=10, random_state=42)</pre></div></div></div></div></div>"
            ]
          },
          "metadata": {},
          "execution_count": 40
        }
      ]
    },
    {
      "cell_type": "code",
      "source": [
        "# Cuadrado de errores estándar más bajo (SSE)\n",
        "kmeans.inertia_"
      ],
      "metadata": {
        "colab": {
          "base_uri": "https://localhost:8080/"
        },
        "id": "ogZLKtGx5NJm",
        "outputId": "0704b410-f077-49f8-df8f-aa9279a93f08"
      },
      "execution_count": null,
      "outputs": [
        {
          "output_type": "execute_result",
          "data": {
            "text/plain": [
              "897.8844012095306"
            ]
          },
          "metadata": {},
          "execution_count": 41
        }
      ]
    },
    {
      "cell_type": "code",
      "source": [
        "# Posición final de los centroides\n",
        "kmeans.cluster_centers_"
      ],
      "metadata": {
        "colab": {
          "base_uri": "https://localhost:8080/"
        },
        "id": "3RDj7g2D5nm5",
        "outputId": "5cfc7ccc-7434-4e74-a10c-01ae05dab448"
      },
      "execution_count": null,
      "outputs": [
        {
          "output_type": "execute_result",
          "data": {
            "text/plain": [
              "array([[ 0.93814301, -0.94141766],\n",
              "       [-0.98530569, -0.32924636],\n",
              "       [ 0.2338701 ,  1.03491211]])"
            ]
          },
          "metadata": {},
          "execution_count": 42
        }
      ]
    },
    {
      "cell_type": "code",
      "source": [
        "# Número de iteraciones requeridas\n",
        "kmeans.n_iter_"
      ],
      "metadata": {
        "colab": {
          "base_uri": "https://localhost:8080/"
        },
        "id": "PVCKiJ2B6SbN",
        "outputId": "109e311d-4c24-4879-ebe2-9391ff6b159c"
      },
      "execution_count": null,
      "outputs": [
        {
          "output_type": "execute_result",
          "data": {
            "text/plain": [
              "9"
            ]
          },
          "metadata": {},
          "execution_count": 43
        }
      ]
    },
    {
      "cell_type": "code",
      "source": [
        "kmeans.labels_"
      ],
      "metadata": {
        "colab": {
          "base_uri": "https://localhost:8080/"
        },
        "id": "jFuBFfMj6YJL",
        "outputId": "056e1319-a8e0-40c0-a5cf-0482848a6088"
      },
      "execution_count": null,
      "outputs": [
        {
          "output_type": "execute_result",
          "data": {
            "text/plain": [
              "array([1, 1, 2, ..., 2, 0, 0], dtype=int32)"
            ]
          },
          "metadata": {},
          "execution_count": 44
        }
      ]
    },
    {
      "cell_type": "code",
      "source": [
        "#Inicializado con 6\n",
        "kmeans = KMeans(\n",
        "  init=\"random\",\n",
        "  n_clusters=6,\n",
        "  n_init=10,\n",
        "  max_iter=300,\n",
        "  random_state=42\n",
        ")"
      ],
      "metadata": {
        "id": "LXFIcnP3GBTK"
      },
      "execution_count": null,
      "outputs": []
    },
    {
      "cell_type": "code",
      "source": [
        "kmeans.fit(scaled_features)"
      ],
      "metadata": {
        "colab": {
          "base_uri": "https://localhost:8080/",
          "height": 75
        },
        "id": "n6OzwbGfGFvb",
        "outputId": "e1b6ab9c-05dd-4394-eb2f-5d4d6555d874"
      },
      "execution_count": null,
      "outputs": [
        {
          "output_type": "execute_result",
          "data": {
            "text/plain": [
              "KMeans(init='random', n_clusters=6, n_init=10, random_state=42)"
            ],
            "text/html": [
              "<style>#sk-container-id-4 {color: black;background-color: white;}#sk-container-id-4 pre{padding: 0;}#sk-container-id-4 div.sk-toggleable {background-color: white;}#sk-container-id-4 label.sk-toggleable__label {cursor: pointer;display: block;width: 100%;margin-bottom: 0;padding: 0.3em;box-sizing: border-box;text-align: center;}#sk-container-id-4 label.sk-toggleable__label-arrow:before {content: \"▸\";float: left;margin-right: 0.25em;color: #696969;}#sk-container-id-4 label.sk-toggleable__label-arrow:hover:before {color: black;}#sk-container-id-4 div.sk-estimator:hover label.sk-toggleable__label-arrow:before {color: black;}#sk-container-id-4 div.sk-toggleable__content {max-height: 0;max-width: 0;overflow: hidden;text-align: left;background-color: #f0f8ff;}#sk-container-id-4 div.sk-toggleable__content pre {margin: 0.2em;color: black;border-radius: 0.25em;background-color: #f0f8ff;}#sk-container-id-4 input.sk-toggleable__control:checked~div.sk-toggleable__content {max-height: 200px;max-width: 100%;overflow: auto;}#sk-container-id-4 input.sk-toggleable__control:checked~label.sk-toggleable__label-arrow:before {content: \"▾\";}#sk-container-id-4 div.sk-estimator input.sk-toggleable__control:checked~label.sk-toggleable__label {background-color: #d4ebff;}#sk-container-id-4 div.sk-label input.sk-toggleable__control:checked~label.sk-toggleable__label {background-color: #d4ebff;}#sk-container-id-4 input.sk-hidden--visually {border: 0;clip: rect(1px 1px 1px 1px);clip: rect(1px, 1px, 1px, 1px);height: 1px;margin: -1px;overflow: hidden;padding: 0;position: absolute;width: 1px;}#sk-container-id-4 div.sk-estimator {font-family: monospace;background-color: #f0f8ff;border: 1px dotted black;border-radius: 0.25em;box-sizing: border-box;margin-bottom: 0.5em;}#sk-container-id-4 div.sk-estimator:hover {background-color: #d4ebff;}#sk-container-id-4 div.sk-parallel-item::after {content: \"\";width: 100%;border-bottom: 1px solid gray;flex-grow: 1;}#sk-container-id-4 div.sk-label:hover label.sk-toggleable__label {background-color: #d4ebff;}#sk-container-id-4 div.sk-serial::before {content: \"\";position: absolute;border-left: 1px solid gray;box-sizing: border-box;top: 0;bottom: 0;left: 50%;z-index: 0;}#sk-container-id-4 div.sk-serial {display: flex;flex-direction: column;align-items: center;background-color: white;padding-right: 0.2em;padding-left: 0.2em;position: relative;}#sk-container-id-4 div.sk-item {position: relative;z-index: 1;}#sk-container-id-4 div.sk-parallel {display: flex;align-items: stretch;justify-content: center;background-color: white;position: relative;}#sk-container-id-4 div.sk-item::before, #sk-container-id-4 div.sk-parallel-item::before {content: \"\";position: absolute;border-left: 1px solid gray;box-sizing: border-box;top: 0;bottom: 0;left: 50%;z-index: -1;}#sk-container-id-4 div.sk-parallel-item {display: flex;flex-direction: column;z-index: 1;position: relative;background-color: white;}#sk-container-id-4 div.sk-parallel-item:first-child::after {align-self: flex-end;width: 50%;}#sk-container-id-4 div.sk-parallel-item:last-child::after {align-self: flex-start;width: 50%;}#sk-container-id-4 div.sk-parallel-item:only-child::after {width: 0;}#sk-container-id-4 div.sk-dashed-wrapped {border: 1px dashed gray;margin: 0 0.4em 0.5em 0.4em;box-sizing: border-box;padding-bottom: 0.4em;background-color: white;}#sk-container-id-4 div.sk-label label {font-family: monospace;font-weight: bold;display: inline-block;line-height: 1.2em;}#sk-container-id-4 div.sk-label-container {text-align: center;}#sk-container-id-4 div.sk-container {/* jupyter's `normalize.less` sets `[hidden] { display: none; }` but bootstrap.min.css set `[hidden] { display: none !important; }` so we also need the `!important` here to be able to override the default hidden behavior on the sphinx rendered scikit-learn.org. See: https://github.com/scikit-learn/scikit-learn/issues/21755 */display: inline-block !important;position: relative;}#sk-container-id-4 div.sk-text-repr-fallback {display: none;}</style><div id=\"sk-container-id-4\" class=\"sk-top-container\"><div class=\"sk-text-repr-fallback\"><pre>KMeans(init=&#x27;random&#x27;, n_clusters=6, n_init=10, random_state=42)</pre><b>In a Jupyter environment, please rerun this cell to show the HTML representation or trust the notebook. <br />On GitHub, the HTML representation is unable to render, please try loading this page with nbviewer.org.</b></div><div class=\"sk-container\" hidden><div class=\"sk-item\"><div class=\"sk-estimator sk-toggleable\"><input class=\"sk-toggleable__control sk-hidden--visually\" id=\"sk-estimator-id-4\" type=\"checkbox\" checked><label for=\"sk-estimator-id-4\" class=\"sk-toggleable__label sk-toggleable__label-arrow\">KMeans</label><div class=\"sk-toggleable__content\"><pre>KMeans(init=&#x27;random&#x27;, n_clusters=6, n_init=10, random_state=42)</pre></div></div></div></div></div>"
            ]
          },
          "metadata": {},
          "execution_count": 47
        }
      ]
    },
    {
      "cell_type": "code",
      "source": [
        "# Cuadrado de errores estándar más bajo (SSE)\n",
        "kmeans.inertia_"
      ],
      "metadata": {
        "colab": {
          "base_uri": "https://localhost:8080/"
        },
        "id": "t9TaEdflGK7S",
        "outputId": "a4f11a4f-2bbf-4c60-d063-a6f7e77e2e3a"
      },
      "execution_count": null,
      "outputs": [
        {
          "output_type": "execute_result",
          "data": {
            "text/plain": [
              "377.7496116905413"
            ]
          },
          "metadata": {},
          "execution_count": 48
        }
      ]
    },
    {
      "cell_type": "code",
      "source": [
        "# Posición final de los centroides\n",
        "centroids = kmeans.cluster_centers_"
      ],
      "metadata": {
        "id": "e3-kw2UsGONy"
      },
      "execution_count": null,
      "outputs": []
    },
    {
      "cell_type": "code",
      "source": [
        "# Número de iteraciones requeridas\n",
        "kmeans.n_iter_"
      ],
      "metadata": {
        "colab": {
          "base_uri": "https://localhost:8080/"
        },
        "id": "DsbRug0MGQM6",
        "outputId": "9a447ddf-28e3-44c4-8039-6faa78888407"
      },
      "execution_count": null,
      "outputs": [
        {
          "output_type": "execute_result",
          "data": {
            "text/plain": [
              "13"
            ]
          },
          "metadata": {},
          "execution_count": 50
        }
      ]
    },
    {
      "cell_type": "code",
      "source": [
        "kmeans.labels_"
      ],
      "metadata": {
        "colab": {
          "base_uri": "https://localhost:8080/"
        },
        "id": "Wc-0_wbDGSax",
        "outputId": "431e66ea-6f3f-4078-908c-728105d8bfaf"
      },
      "execution_count": null,
      "outputs": [
        {
          "output_type": "execute_result",
          "data": {
            "text/plain": [
              "array([2, 2, 3, ..., 2, 0, 4], dtype=int32)"
            ]
          },
          "metadata": {},
          "execution_count": 51
        }
      ]
    },
    {
      "cell_type": "markdown",
      "source": [
        "Conclusión: A pesar de que el método del codo puede mostrar visualmente y a través del método KneeLocator que el número optimo de clusters es 3, probamos que 6 es el mejor número de clusters para obtener el SSE más bajo, tal como lo indica el método de la Silueta."
      ],
      "metadata": {
        "id": "asy4HLPlGcqP"
      }
    },
    {
      "cell_type": "code",
      "source": [
        "# Por último se transforma de vuelta los centroides a coordenadas UTM\n",
        "coordsCentroids = scaler.inverse_transform(centroids)\n",
        "coordsCentroids"
      ],
      "metadata": {
        "colab": {
          "base_uri": "https://localhost:8080/"
        },
        "id": "3YDb3RZWG1BJ",
        "outputId": "71027b86-b88e-4e5c-c3d0-c668001e4678"
      },
      "execution_count": null,
      "outputs": [
        {
          "output_type": "execute_result",
          "data": {
            "text/plain": [
              "array([[710078.31327563, 781530.69729248],\n",
              "       [708801.56689714, 781950.57827712],\n",
              "       [709639.42320305, 783344.64317778],\n",
              "       [710676.53104374, 784242.82757894],\n",
              "       [711581.691536  , 781263.49767167],\n",
              "       [711154.98046515, 782893.6030612 ]])"
            ]
          },
          "metadata": {},
          "execution_count": 62
        }
      ]
    }
  ]
}